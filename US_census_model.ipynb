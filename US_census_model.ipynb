{
 "cells": [
  {
   "cell_type": "markdown",
   "metadata": {},
   "source": [
    "# US Census Model"
   ]
  },
  {
   "cell_type": "markdown",
   "metadata": {},
   "source": [
    "## Introduction\n",
    "\n",
    "In this report I will show differents model I tried to predict the people with income higher than 50K."
   ]
  },
  {
   "cell_type": "code",
   "execution_count": 1,
   "metadata": {
    "collapsed": false
   },
   "outputs": [],
   "source": [
    "import numpy as np\n",
    "import pandas as pd\n",
    "import sklearn.metrics\n",
    "from  sklearn.preprocessing import scale\n",
    "from sklearn import tree\n",
    "from sklearn.ensemble import RandomForestClassifier\n",
    "from sklearn.linear_model import LogisticRegression\n",
    "from sklearn.dummy import DummyClassifier"
   ]
  },
  {
   "cell_type": "code",
   "execution_count": 2,
   "metadata": {
    "collapsed": false
   },
   "outputs": [],
   "source": [
    "# Load the learning set\n",
    "learn_X = pd.read_csv(\"./data/census_income_learn_data.csv\")\n",
    "learn_Y = pd.read_csv(\"./data/census_income_learn_label.csv\")"
   ]
  },
  {
   "cell_type": "code",
   "execution_count": 3,
   "metadata": {
    "collapsed": false
   },
   "outputs": [
    {
     "data": {
      "text/plain": [
       "6.0"
      ]
     },
     "execution_count": 3,
     "metadata": {},
     "output_type": "execute_result"
    }
   ],
   "source": [
    "# look at the independance of our features.\n",
    "((learn_X.corr() > 0.65).values.sum() - 24) / 2"
   ]
  },
  {
   "cell_type": "markdown",
   "metadata": {},
   "source": [
    "We can see 6 of the 24 features have strong correlations with other features."
   ]
  },
  {
   "cell_type": "code",
   "execution_count": 4,
   "metadata": {
    "collapsed": false
   },
   "outputs": [
    {
     "data": {
      "text/plain": [
       "age                                                   0.135720\n",
       "wage_per_hour                                         0.024528\n",
       "capital_gains                                         0.240725\n",
       "capital_losses                                        0.147417\n",
       "divdends_from_stocks                                  0.175779\n",
       "num_persons_worked_for_employer                       0.222684\n",
       "weeks_worked_in_year                                  0.262316\n",
       "fill_inc_questionnaire_for_veteran_admin_yes_or_no    0.022586\n",
       "public_worker                                         0.079106\n",
       "private_worker                                        0.123361\n",
       "well_paid_occupation                                  0.328371\n",
       "university_degree                                     0.214652\n",
       "no_university                                        -0.206469\n",
       "is_female                                            -0.157610\n",
       "veterans_benefits_1_or_2                              0.143601\n",
       "married_civilian_spouse_present                       0.183949\n",
       "never_maried                                         -0.178167\n",
       "tax_nonfiler                                         -0.198326\n",
       "tax_joint_both_under_65                               0.205193\n",
       "householders                                          0.213482\n",
       "industricode_0                                       -0.221969\n",
       "not_in_labor_force_or_armed_force                    -0.145253\n",
       "full_time_schedules                                   0.146261\n",
       "white_asian                                           0.084343\n",
       "dtype: float64"
      ]
     },
     "execution_count": 4,
     "metadata": {},
     "output_type": "execute_result"
    }
   ],
   "source": [
    "learn_X.corrwith(learn_Y.label)"
   ]
  },
  {
   "cell_type": "markdown",
   "metadata": {},
   "source": [
    "We can see that we only have weak correlation to the class."
   ]
  },
  {
   "cell_type": "code",
   "execution_count": 5,
   "metadata": {
    "collapsed": true
   },
   "outputs": [],
   "source": [
    "# Load the test dataset\n",
    "test_X = pd.read_csv(\"./data/census_income_test_data.csv\")\n",
    "test_Y = pd.read_csv(\"./data/census_income_test_label.csv\")"
   ]
  },
  {
   "cell_type": "code",
   "execution_count": 39,
   "metadata": {
    "collapsed": false
   },
   "outputs": [
    {
     "name": "stdout",
     "output_type": "stream",
     "text": [
      "             precision    recall  f1-score   support\n",
      "\n",
      "         -1       0.94      0.94      0.94     93576\n",
      "          1       0.06      0.06      0.06      6186\n",
      "\n",
      "avg / total       0.88      0.88      0.88     99762\n",
      "\n"
     ]
    }
   ],
   "source": [
    "print(sklearn.metrics.classification_report(test_Y.values, np.random.choice([-1,1], len(test_Y), p=[0.938, 0.062])))"
   ]
  },
  {
   "cell_type": "markdown",
   "metadata": {},
   "source": [
    "In this example I just try to randomly assigne the label using the same distribution as the train data. This dummy classiffier can be use as a baseline. "
   ]
  },
  {
   "cell_type": "markdown",
   "metadata": {},
   "source": [
    "## Decision Tree and random forest\n",
    "\n",
    "This first experiment use a decision tree to build a classifier. We will also try with a random forest classifier."
   ]
  },
  {
   "cell_type": "code",
   "execution_count": 27,
   "metadata": {
    "collapsed": false
   },
   "outputs": [
    {
     "name": "stdout",
     "output_type": "stream",
     "text": [
      "             precision    recall  f1-score   support\n",
      "\n",
      "         -1       0.96      0.97      0.96     93576\n",
      "          1       0.47      0.44      0.45      6186\n",
      "\n",
      "avg / total       0.93      0.93      0.93     99762\n",
      "\n"
     ]
    }
   ],
   "source": [
    "decision_tree = tree.DecisionTreeClassifier()\n",
    "decision_tree = decision_tree.fit(learn_X.values, learn_Y.values)\n",
    "print(sklearn.metrics.classification_report(test_Y.values, decision_tree.predict(test_X.values)))"
   ]
  },
  {
   "cell_type": "markdown",
   "metadata": {
    "collapsed": true
   },
   "source": [
    "We can see that the precision, recall and f1 for + 50000 income people is not good enough. "
   ]
  },
  {
   "cell_type": "code",
   "execution_count": 28,
   "metadata": {
    "collapsed": false
   },
   "outputs": [
    {
     "data": {
      "text/html": [
       "<div>\n",
       "<table border=\"1\" class=\"dataframe\">\n",
       "  <thead>\n",
       "    <tr style=\"text-align: right;\">\n",
       "      <th></th>\n",
       "      <th>importance</th>\n",
       "    </tr>\n",
       "  </thead>\n",
       "  <tbody>\n",
       "    <tr>\n",
       "      <th>age</th>\n",
       "      <td>0.204061</td>\n",
       "    </tr>\n",
       "    <tr>\n",
       "      <th>divdends_from_stocks</th>\n",
       "      <td>0.134219</td>\n",
       "    </tr>\n",
       "    <tr>\n",
       "      <th>well_paid_occupation</th>\n",
       "      <td>0.123811</td>\n",
       "    </tr>\n",
       "    <tr>\n",
       "      <th>capital_gains</th>\n",
       "      <td>0.120739</td>\n",
       "    </tr>\n",
       "    <tr>\n",
       "      <th>num_persons_worked_for_employer</th>\n",
       "      <td>0.061390</td>\n",
       "    </tr>\n",
       "    <tr>\n",
       "      <th>is_female</th>\n",
       "      <td>0.052977</td>\n",
       "    </tr>\n",
       "    <tr>\n",
       "      <th>weeks_worked_in_year</th>\n",
       "      <td>0.046671</td>\n",
       "    </tr>\n",
       "    <tr>\n",
       "      <th>capital_losses</th>\n",
       "      <td>0.038842</td>\n",
       "    </tr>\n",
       "    <tr>\n",
       "      <th>householders</th>\n",
       "      <td>0.027171</td>\n",
       "    </tr>\n",
       "    <tr>\n",
       "      <th>wage_per_hour</th>\n",
       "      <td>0.025070</td>\n",
       "    </tr>\n",
       "    <tr>\n",
       "      <th>white_asian</th>\n",
       "      <td>0.023840</td>\n",
       "    </tr>\n",
       "    <tr>\n",
       "      <th>not_in_labor_force_or_armed_force</th>\n",
       "      <td>0.022932</td>\n",
       "    </tr>\n",
       "    <tr>\n",
       "      <th>full_time_schedules</th>\n",
       "      <td>0.022204</td>\n",
       "    </tr>\n",
       "    <tr>\n",
       "      <th>university_degree</th>\n",
       "      <td>0.019159</td>\n",
       "    </tr>\n",
       "    <tr>\n",
       "      <th>private_worker</th>\n",
       "      <td>0.017202</td>\n",
       "    </tr>\n",
       "    <tr>\n",
       "      <th>tax_joint_both_under_65</th>\n",
       "      <td>0.014593</td>\n",
       "    </tr>\n",
       "    <tr>\n",
       "      <th>public_worker</th>\n",
       "      <td>0.011943</td>\n",
       "    </tr>\n",
       "    <tr>\n",
       "      <th>married_civilian_spouse_present</th>\n",
       "      <td>0.010111</td>\n",
       "    </tr>\n",
       "    <tr>\n",
       "      <th>never_maried</th>\n",
       "      <td>0.008869</td>\n",
       "    </tr>\n",
       "    <tr>\n",
       "      <th>no_university</th>\n",
       "      <td>0.005805</td>\n",
       "    </tr>\n",
       "    <tr>\n",
       "      <th>fill_inc_questionnaire_for_veteran_admin_yes_or_no</th>\n",
       "      <td>0.004335</td>\n",
       "    </tr>\n",
       "    <tr>\n",
       "      <th>industricode_0</th>\n",
       "      <td>0.003191</td>\n",
       "    </tr>\n",
       "    <tr>\n",
       "      <th>tax_nonfiler</th>\n",
       "      <td>0.000865</td>\n",
       "    </tr>\n",
       "    <tr>\n",
       "      <th>veterans_benefits_1_or_2</th>\n",
       "      <td>0.000000</td>\n",
       "    </tr>\n",
       "  </tbody>\n",
       "</table>\n",
       "</div>"
      ],
      "text/plain": [
       "                                                    importance\n",
       "age                                                   0.204061\n",
       "divdends_from_stocks                                  0.134219\n",
       "well_paid_occupation                                  0.123811\n",
       "capital_gains                                         0.120739\n",
       "num_persons_worked_for_employer                       0.061390\n",
       "is_female                                             0.052977\n",
       "weeks_worked_in_year                                  0.046671\n",
       "capital_losses                                        0.038842\n",
       "householders                                          0.027171\n",
       "wage_per_hour                                         0.025070\n",
       "white_asian                                           0.023840\n",
       "not_in_labor_force_or_armed_force                     0.022932\n",
       "full_time_schedules                                   0.022204\n",
       "university_degree                                     0.019159\n",
       "private_worker                                        0.017202\n",
       "tax_joint_both_under_65                               0.014593\n",
       "public_worker                                         0.011943\n",
       "married_civilian_spouse_present                       0.010111\n",
       "never_maried                                          0.008869\n",
       "no_university                                         0.005805\n",
       "fill_inc_questionnaire_for_veteran_admin_yes_or_no    0.004335\n",
       "industricode_0                                        0.003191\n",
       "tax_nonfiler                                          0.000865\n",
       "veterans_benefits_1_or_2                              0.000000"
      ]
     },
     "execution_count": 28,
     "metadata": {},
     "output_type": "execute_result"
    }
   ],
   "source": [
    "decision_tree_res = pd.DataFrame(decision_tree.feature_importances_,\n",
    "                                 index=learn_X.columns.values,\n",
    "                                 columns=['importance'])\n",
    "decision_tree_res.sort_values('importance', ascending=False)"
   ]
  },
  {
   "cell_type": "code",
   "execution_count": 29,
   "metadata": {
    "collapsed": false
   },
   "outputs": [
    {
     "name": "stdout",
     "output_type": "stream",
     "text": [
      "             precision    recall  f1-score   support\n",
      "\n",
      "         -1       0.96      0.98      0.97     93576\n",
      "          1       0.59      0.40      0.48      6186\n",
      "\n",
      "avg / total       0.94      0.95      0.94     99762\n",
      "\n"
     ]
    }
   ],
   "source": [
    "random_forest = RandomForestClassifier()\n",
    "random_forest = random_forest.fit(learn_X, learn_Y.label)\n",
    "print(sklearn.metrics.classification_report(test_Y.values, random_forest.predict(test_X.values)))"
   ]
  },
  {
   "cell_type": "markdown",
   "metadata": {},
   "source": [
    "We have slightly better result unsing the Random forest clasifier."
   ]
  },
  {
   "cell_type": "code",
   "execution_count": 30,
   "metadata": {
    "collapsed": false
   },
   "outputs": [
    {
     "data": {
      "text/html": [
       "<div>\n",
       "<table border=\"1\" class=\"dataframe\">\n",
       "  <thead>\n",
       "    <tr style=\"text-align: right;\">\n",
       "      <th></th>\n",
       "      <th>importance</th>\n",
       "    </tr>\n",
       "  </thead>\n",
       "  <tbody>\n",
       "    <tr>\n",
       "      <th>age</th>\n",
       "      <td>0.252969</td>\n",
       "    </tr>\n",
       "    <tr>\n",
       "      <th>divdends_from_stocks</th>\n",
       "      <td>0.148888</td>\n",
       "    </tr>\n",
       "    <tr>\n",
       "      <th>capital_gains</th>\n",
       "      <td>0.106322</td>\n",
       "    </tr>\n",
       "    <tr>\n",
       "      <th>well_paid_occupation</th>\n",
       "      <td>0.075870</td>\n",
       "    </tr>\n",
       "    <tr>\n",
       "      <th>num_persons_worked_for_employer</th>\n",
       "      <td>0.071542</td>\n",
       "    </tr>\n",
       "    <tr>\n",
       "      <th>weeks_worked_in_year</th>\n",
       "      <td>0.055309</td>\n",
       "    </tr>\n",
       "    <tr>\n",
       "      <th>is_female</th>\n",
       "      <td>0.043880</td>\n",
       "    </tr>\n",
       "    <tr>\n",
       "      <th>capital_losses</th>\n",
       "      <td>0.041679</td>\n",
       "    </tr>\n",
       "    <tr>\n",
       "      <th>wage_per_hour</th>\n",
       "      <td>0.025622</td>\n",
       "    </tr>\n",
       "    <tr>\n",
       "      <th>university_degree</th>\n",
       "      <td>0.024872</td>\n",
       "    </tr>\n",
       "    <tr>\n",
       "      <th>householders</th>\n",
       "      <td>0.023842</td>\n",
       "    </tr>\n",
       "    <tr>\n",
       "      <th>married_civilian_spouse_present</th>\n",
       "      <td>0.018037</td>\n",
       "    </tr>\n",
       "    <tr>\n",
       "      <th>white_asian</th>\n",
       "      <td>0.016786</td>\n",
       "    </tr>\n",
       "    <tr>\n",
       "      <th>private_worker</th>\n",
       "      <td>0.014944</td>\n",
       "    </tr>\n",
       "    <tr>\n",
       "      <th>not_in_labor_force_or_armed_force</th>\n",
       "      <td>0.014188</td>\n",
       "    </tr>\n",
       "    <tr>\n",
       "      <th>full_time_schedules</th>\n",
       "      <td>0.013917</td>\n",
       "    </tr>\n",
       "    <tr>\n",
       "      <th>public_worker</th>\n",
       "      <td>0.010136</td>\n",
       "    </tr>\n",
       "    <tr>\n",
       "      <th>tax_joint_both_under_65</th>\n",
       "      <td>0.009561</td>\n",
       "    </tr>\n",
       "    <tr>\n",
       "      <th>industricode_0</th>\n",
       "      <td>0.008064</td>\n",
       "    </tr>\n",
       "    <tr>\n",
       "      <th>never_maried</th>\n",
       "      <td>0.007239</td>\n",
       "    </tr>\n",
       "    <tr>\n",
       "      <th>no_university</th>\n",
       "      <td>0.006187</td>\n",
       "    </tr>\n",
       "    <tr>\n",
       "      <th>tax_nonfiler</th>\n",
       "      <td>0.005455</td>\n",
       "    </tr>\n",
       "    <tr>\n",
       "      <th>fill_inc_questionnaire_for_veteran_admin_yes_or_no</th>\n",
       "      <td>0.004335</td>\n",
       "    </tr>\n",
       "    <tr>\n",
       "      <th>veterans_benefits_1_or_2</th>\n",
       "      <td>0.000356</td>\n",
       "    </tr>\n",
       "  </tbody>\n",
       "</table>\n",
       "</div>"
      ],
      "text/plain": [
       "                                                    importance\n",
       "age                                                   0.252969\n",
       "divdends_from_stocks                                  0.148888\n",
       "capital_gains                                         0.106322\n",
       "well_paid_occupation                                  0.075870\n",
       "num_persons_worked_for_employer                       0.071542\n",
       "weeks_worked_in_year                                  0.055309\n",
       "is_female                                             0.043880\n",
       "capital_losses                                        0.041679\n",
       "wage_per_hour                                         0.025622\n",
       "university_degree                                     0.024872\n",
       "householders                                          0.023842\n",
       "married_civilian_spouse_present                       0.018037\n",
       "white_asian                                           0.016786\n",
       "private_worker                                        0.014944\n",
       "not_in_labor_force_or_armed_force                     0.014188\n",
       "full_time_schedules                                   0.013917\n",
       "public_worker                                         0.010136\n",
       "tax_joint_both_under_65                               0.009561\n",
       "industricode_0                                        0.008064\n",
       "never_maried                                          0.007239\n",
       "no_university                                         0.006187\n",
       "tax_nonfiler                                          0.005455\n",
       "fill_inc_questionnaire_for_veteran_admin_yes_or_no    0.004335\n",
       "veterans_benefits_1_or_2                              0.000356"
      ]
     },
     "execution_count": 30,
     "metadata": {},
     "output_type": "execute_result"
    }
   ],
   "source": [
    "random_forest_res = pd.DataFrame(random_forest.feature_importances_,\n",
    "                                 index=learn_X.columns.values,\n",
    "                                 columns=['importance'])\n",
    "random_forest_res.sort_values('importance', ascending=False)"
   ]
  },
  {
   "cell_type": "markdown",
   "metadata": {},
   "source": [
    "We can see that the random forest and the decision tree have similare features importance."
   ]
  },
  {
   "cell_type": "markdown",
   "metadata": {},
   "source": [
    "## Logistic Regression\n",
    "\n",
    "The second experiment use a logistic regression to build the model."
   ]
  },
  {
   "cell_type": "code",
   "execution_count": 31,
   "metadata": {
    "collapsed": false
   },
   "outputs": [
    {
     "name": "stderr",
     "output_type": "stream",
     "text": [
      "/home/rjollet/.local/lib/python3.5/site-packages/sklearn/utils/validation.py:420: DataConversionWarning: Data with input dtype int64 was converted to float64 by the scale function.\n",
      "  warnings.warn(msg, DataConversionWarning)\n"
     ]
    },
    {
     "name": "stdout",
     "output_type": "stream",
     "text": [
      "             precision    recall  f1-score   support\n",
      "\n",
      "         -1       0.95      0.99      0.97     93576\n",
      "          1       0.70      0.29      0.41      6186\n",
      "\n",
      "avg / total       0.94      0.95      0.94     99762\n",
      "\n"
     ]
    },
    {
     "name": "stderr",
     "output_type": "stream",
     "text": [
      "/home/rjollet/.local/lib/python3.5/site-packages/sklearn/utils/validation.py:420: DataConversionWarning: Data with input dtype int64 was converted to float64 by the scale function.\n",
      "  warnings.warn(msg, DataConversionWarning)\n"
     ]
    }
   ],
   "source": [
    "logi_regr = LogisticRegression()\n",
    "logi_regr = logi_regr.fit(scale(learn_X.values), learn_Y.label)\n",
    "print(sklearn.metrics.classification_report(test_Y.label.tolist(),\n",
    "                                            logi_regr.predict(scale(test_X.values)).tolist()))"
   ]
  },
  {
   "cell_type": "markdown",
   "metadata": {},
   "source": [
    "The logistic regression give result comparable to the random forest."
   ]
  },
  {
   "cell_type": "code",
   "execution_count": 32,
   "metadata": {
    "collapsed": false
   },
   "outputs": [
    {
     "data": {
      "text/html": [
       "<div>\n",
       "<table border=\"1\" class=\"dataframe\">\n",
       "  <thead>\n",
       "    <tr style=\"text-align: right;\">\n",
       "      <th></th>\n",
       "      <th>coef</th>\n",
       "    </tr>\n",
       "  </thead>\n",
       "  <tbody>\n",
       "    <tr>\n",
       "      <th>weeks_worked_in_year</th>\n",
       "      <td>0.909527</td>\n",
       "    </tr>\n",
       "    <tr>\n",
       "      <th>age</th>\n",
       "      <td>0.827404</td>\n",
       "    </tr>\n",
       "    <tr>\n",
       "      <th>well_paid_occupation</th>\n",
       "      <td>0.545399</td>\n",
       "    </tr>\n",
       "    <tr>\n",
       "      <th>capital_gains</th>\n",
       "      <td>0.538056</td>\n",
       "    </tr>\n",
       "    <tr>\n",
       "      <th>num_persons_worked_for_employer</th>\n",
       "      <td>0.467549</td>\n",
       "    </tr>\n",
       "    <tr>\n",
       "      <th>divdends_from_stocks</th>\n",
       "      <td>0.402244</td>\n",
       "    </tr>\n",
       "    <tr>\n",
       "      <th>veterans_benefits_1_or_2</th>\n",
       "      <td>0.364615</td>\n",
       "    </tr>\n",
       "    <tr>\n",
       "      <th>tax_joint_both_under_65</th>\n",
       "      <td>0.319429</td>\n",
       "    </tr>\n",
       "    <tr>\n",
       "      <th>university_degree</th>\n",
       "      <td>0.181470</td>\n",
       "    </tr>\n",
       "    <tr>\n",
       "      <th>capital_losses</th>\n",
       "      <td>0.168993</td>\n",
       "    </tr>\n",
       "    <tr>\n",
       "      <th>industricode_0</th>\n",
       "      <td>0.145837</td>\n",
       "    </tr>\n",
       "    <tr>\n",
       "      <th>white_asian</th>\n",
       "      <td>0.132569</td>\n",
       "    </tr>\n",
       "    <tr>\n",
       "      <th>householders</th>\n",
       "      <td>0.048560</td>\n",
       "    </tr>\n",
       "    <tr>\n",
       "      <th>full_time_schedules</th>\n",
       "      <td>0.046355</td>\n",
       "    </tr>\n",
       "    <tr>\n",
       "      <th>fill_inc_questionnaire_for_veteran_admin_yes_or_no</th>\n",
       "      <td>0.037792</td>\n",
       "    </tr>\n",
       "    <tr>\n",
       "      <th>wage_per_hour</th>\n",
       "      <td>-0.003041</td>\n",
       "    </tr>\n",
       "    <tr>\n",
       "      <th>not_in_labor_force_or_armed_force</th>\n",
       "      <td>-0.005931</td>\n",
       "    </tr>\n",
       "    <tr>\n",
       "      <th>public_worker</th>\n",
       "      <td>-0.156419</td>\n",
       "    </tr>\n",
       "    <tr>\n",
       "      <th>private_worker</th>\n",
       "      <td>-0.216231</td>\n",
       "    </tr>\n",
       "    <tr>\n",
       "      <th>never_maried</th>\n",
       "      <td>-0.218883</td>\n",
       "    </tr>\n",
       "    <tr>\n",
       "      <th>married_civilian_spouse_present</th>\n",
       "      <td>-0.235390</td>\n",
       "    </tr>\n",
       "    <tr>\n",
       "      <th>no_university</th>\n",
       "      <td>-0.571452</td>\n",
       "    </tr>\n",
       "    <tr>\n",
       "      <th>is_female</th>\n",
       "      <td>-0.674830</td>\n",
       "    </tr>\n",
       "    <tr>\n",
       "      <th>tax_nonfiler</th>\n",
       "      <td>-0.701655</td>\n",
       "    </tr>\n",
       "  </tbody>\n",
       "</table>\n",
       "</div>"
      ],
      "text/plain": [
       "                                                        coef\n",
       "weeks_worked_in_year                                0.909527\n",
       "age                                                 0.827404\n",
       "well_paid_occupation                                0.545399\n",
       "capital_gains                                       0.538056\n",
       "num_persons_worked_for_employer                     0.467549\n",
       "divdends_from_stocks                                0.402244\n",
       "veterans_benefits_1_or_2                            0.364615\n",
       "tax_joint_both_under_65                             0.319429\n",
       "university_degree                                   0.181470\n",
       "capital_losses                                      0.168993\n",
       "industricode_0                                      0.145837\n",
       "white_asian                                         0.132569\n",
       "householders                                        0.048560\n",
       "full_time_schedules                                 0.046355\n",
       "fill_inc_questionnaire_for_veteran_admin_yes_or_no  0.037792\n",
       "wage_per_hour                                      -0.003041\n",
       "not_in_labor_force_or_armed_force                  -0.005931\n",
       "public_worker                                      -0.156419\n",
       "private_worker                                     -0.216231\n",
       "never_maried                                       -0.218883\n",
       "married_civilian_spouse_present                    -0.235390\n",
       "no_university                                      -0.571452\n",
       "is_female                                          -0.674830\n",
       "tax_nonfiler                                       -0.701655"
      ]
     },
     "execution_count": 32,
     "metadata": {},
     "output_type": "execute_result"
    }
   ],
   "source": [
    "logi_regr_coef = pd.DataFrame(logi_regr.coef_.T, index=learn_X.columns.values, columns=['coef'])\n",
    "logi_regr_coef.sort_values('coef', ascending=False)"
   ]
  },
  {
   "cell_type": "markdown",
   "metadata": {},
   "source": [
    "For logistic regretion the most important feature are:\n",
    "* veterans_benefits_1_or_2\n",
    "* tax_nonfiler\n",
    "* is_female\n",
    "* well_paid_occupation\n",
    "* no_university"
   ]
  },
  {
   "cell_type": "markdown",
   "metadata": {},
   "source": [
    "## Conclusion\n",
    "\n",
    "During my process I have first look at every feature and try to do the feature selection manually to reduce the number of feature. During this process on of my essie was to extract the most relevant categorie and group some categories together.\n",
    "\n",
    "Secondly I did differents model and regression of the dataset to predict if the income is above 50K. The two class are highly umbalance about 6% of people in the dataset have an income higher than 50K. I try differents techinque to balanced more the data but none of them get better result. \n",
    "\n",
    "Week work in year, age and sex are corralated to the income above 50k knowing that this variable have an interactioon because children does not work the part of woman having a job is lower.\n",
    "The second factor is what we can call capital activites made from capital gains and losses with the dividends from stock."
   ]
  },
  {
   "cell_type": "code",
   "execution_count": null,
   "metadata": {
    "collapsed": true
   },
   "outputs": [],
   "source": []
  }
 ],
 "metadata": {
  "kernelspec": {
   "display_name": "Python 3",
   "language": "python",
   "name": "python3"
  },
  "language_info": {
   "codemirror_mode": {
    "name": "ipython",
    "version": 3
   },
   "file_extension": ".py",
   "mimetype": "text/x-python",
   "name": "python",
   "nbconvert_exporter": "python",
   "pygments_lexer": "ipython3",
   "version": "3.5.1+"
  }
 },
 "nbformat": 4,
 "nbformat_minor": 0
}
